{
 "cells": [
  {
   "cell_type": "markdown",
   "id": "e347a930",
   "metadata": {},
   "source": [
    "### The purpose of the code is to validate a list of projects under several circumstances, primarily those that arise from human errors:\n",
    " 1. Duplicated projects: a unique ID may have been used multiple times, which could lead to issues in future.\n",
    " 2. Missing projects: an ID may have been skipped, resulting in errors in the project sequence.\n",
    " 3. Specific Type of Projects: the code also checks for projects indicated by specific strings in the project name."
   ]
  },
  {
   "cell_type": "markdown",
   "id": "791a8ae3",
   "metadata": {},
   "source": [
    "#### Duplicates check:"
   ]
  },
  {
   "cell_type": "code",
   "execution_count": 10,
   "id": "942787e8",
   "metadata": {},
   "outputs": [
    {
     "data": {
      "text/html": [
       "<div>\n",
       "<style scoped>\n",
       "    .dataframe tbody tr th:only-of-type {\n",
       "        vertical-align: middle;\n",
       "    }\n",
       "\n",
       "    .dataframe tbody tr th {\n",
       "        vertical-align: top;\n",
       "    }\n",
       "\n",
       "    .dataframe thead th {\n",
       "        text-align: right;\n",
       "    }\n",
       "</style>\n",
       "<table border=\"1\" class=\"dataframe\">\n",
       "  <thead>\n",
       "    <tr style=\"text-align: right;\">\n",
       "      <th></th>\n",
       "      <th>Duplicated_projects</th>\n",
       "    </tr>\n",
       "  </thead>\n",
       "  <tbody>\n",
       "    <tr>\n",
       "      <th>0</th>\n",
       "      <td>5252</td>\n",
       "    </tr>\n",
       "    <tr>\n",
       "      <th>2</th>\n",
       "      <td>5254</td>\n",
       "    </tr>\n",
       "  </tbody>\n",
       "</table>\n",
       "</div>"
      ],
      "text/plain": [
       "  Duplicated_projects\n",
       "0                5252\n",
       "2                5254"
      ]
     },
     "execution_count": 10,
     "metadata": {},
     "output_type": "execute_result"
    }
   ],
   "source": [
    "import pandas as pd\n",
    "import numpy as np\n",
    "import warnings\n",
    "\n",
    "warnings.filterwarnings('ignore')\n",
    "pd.set_option(\"display.max_columns\", 100)\n",
    "\n",
    "ho_num = pd.read_excel('../summary_projectnames.xls', header=2)\n",
    "ho_num = ho_num.applymap(lambda x: x.strip() if isinstance(x, str) else x)\n",
    "\n",
    "summary = ho_num[['Summary']]\n",
    "summary = summary.loc[summary['Summary'].str.startswith('Project-HO', na=False)]\n",
    "\n",
    "split = summary['Summary'].str.split(\"|\", expand=True)\n",
    "\n",
    "proj_ho = split[[0]].rename(columns={0: 'Project-HO'})\n",
    "duplicates = proj_ho[proj_ho.duplicated(['Project-HO'], keep=False)]\n",
    "\n",
    "# another way of duplicates\n",
    "# duplicates = pd.concat(g for _, g in proj_ho.groupby(\"Project-HO\") if len(g) > 1)   \n",
    "\n",
    "duplicates.reset_index(inplace=True, drop=True)\n",
    "duplicates['Project-HO'] = duplicates[~duplicates['Project-HO'].str.startswith('Project-HOX')]\n",
    "duplicates['Duplicated_projects'] = duplicates['Project-HO'].drop_duplicates()\n",
    "duplicates[['Duplicated_projects']].apply(lambda x: x.str[6:]).dropna()"
   ]
  },
  {
   "cell_type": "markdown",
   "id": "4f21f0d3",
   "metadata": {},
   "source": [
    "#### Missing projects:"
   ]
  },
  {
   "cell_type": "code",
   "execution_count": 11,
   "id": "e6f0cfb0",
   "metadata": {},
   "outputs": [
    {
     "data": {
      "text/html": [
       "<div>\n",
       "<style scoped>\n",
       "    .dataframe tbody tr th:only-of-type {\n",
       "        vertical-align: middle;\n",
       "    }\n",
       "\n",
       "    .dataframe tbody tr th {\n",
       "        vertical-align: top;\n",
       "    }\n",
       "\n",
       "    .dataframe thead th {\n",
       "        text-align: right;\n",
       "    }\n",
       "</style>\n",
       "<table border=\"1\" class=\"dataframe\">\n",
       "  <thead>\n",
       "    <tr style=\"text-align: right;\">\n",
       "      <th></th>\n",
       "      <th>Missing_from_list</th>\n",
       "    </tr>\n",
       "  </thead>\n",
       "  <tbody>\n",
       "    <tr>\n",
       "      <th>0</th>\n",
       "      <td>5265</td>\n",
       "    </tr>\n",
       "  </tbody>\n",
       "</table>\n",
       "</div>"
      ],
      "text/plain": [
       "   Missing_from_list\n",
       "0               5265"
      ]
     },
     "execution_count": 11,
     "metadata": {},
     "output_type": "execute_result"
    }
   ],
   "source": [
    "proj_ho_sequence = proj_ho\n",
    "proj_ho_sequence['Project-HO'] = (proj_ho['Project-HO']\n",
    "                             .str[6:]\n",
    "                             .fillna(np.nan)  \n",
    "                             .str.replace('X', '')\n",
    "                             .replace('', np.nan)  \n",
    "                             .fillna(0)    \n",
    "                             .astype(int))\n",
    "\n",
    "min_val = int(proj_ho_sequence['Project-HO'].min())\n",
    "max_val = int(proj_ho_sequence['Project-HO'].max())\n",
    "\n",
    "# create a sequence of all integers between the minimum and maximum values\n",
    "all_integers = set(range(min_val, max_val + 1))\n",
    "\n",
    "# find the missing int in the column\n",
    "missing_int = all_integers - set(proj_ho_sequence['Project-HO'])\n",
    "missing_int_list = sorted(missing_int)\n",
    "\n",
    "result = pd.DataFrame({'Missing_from_list': missing_int_list})\n",
    "result"
   ]
  },
  {
   "cell_type": "markdown",
   "id": "58c114db",
   "metadata": {},
   "source": [
    "#### Check on specific type of projects"
   ]
  },
  {
   "cell_type": "code",
   "execution_count": 12,
   "id": "6aed7b9e",
   "metadata": {},
   "outputs": [
    {
     "data": {
      "text/html": [
       "<div>\n",
       "<style scoped>\n",
       "    .dataframe tbody tr th:only-of-type {\n",
       "        vertical-align: middle;\n",
       "    }\n",
       "\n",
       "    .dataframe tbody tr th {\n",
       "        vertical-align: top;\n",
       "    }\n",
       "\n",
       "    .dataframe thead th {\n",
       "        text-align: right;\n",
       "    }\n",
       "</style>\n",
       "<table border=\"1\" class=\"dataframe\">\n",
       "  <thead>\n",
       "    <tr style=\"text-align: right;\">\n",
       "      <th>1</th>\n",
       "      <th>On_reuse</th>\n",
       "      <th>Keyword</th>\n",
       "    </tr>\n",
       "  </thead>\n",
       "  <tbody>\n",
       "    <tr>\n",
       "      <th>0</th>\n",
       "      <td>5266</td>\n",
       "      <td>Trigger_value2</td>\n",
       "    </tr>\n",
       "    <tr>\n",
       "      <th>1</th>\n",
       "      <td>5267</td>\n",
       "      <td>Trigger_value1</td>\n",
       "    </tr>\n",
       "    <tr>\n",
       "      <th>2</th>\n",
       "      <td>5283</td>\n",
       "      <td>Trigger_value3</td>\n",
       "    </tr>\n",
       "    <tr>\n",
       "      <th>3</th>\n",
       "      <td>5300</td>\n",
       "      <td>Trigger_value1</td>\n",
       "    </tr>\n",
       "  </tbody>\n",
       "</table>\n",
       "</div>"
      ],
      "text/plain": [
       "1 On_reuse         Keyword\n",
       "0     5266  Trigger_value2\n",
       "1     5267  Trigger_value1\n",
       "2     5283  Trigger_value3\n",
       "3     5300  Trigger_value1"
      ]
     },
     "execution_count": 12,
     "metadata": {},
     "output_type": "execute_result"
    }
   ],
   "source": [
    "lookup = [\n",
    "    'Trigger_value1', 'Trigger_value2', 'Trigger_value3', 'Trigger_value4'\n",
    "]\n",
    "single_str = '(' + '|'.join(lookup) + ')'  # creates a single string and encloses it in parentheses for group matching\n",
    "\n",
    "summary['On_reuse'] = summary.loc[summary['Summary'].str.contains(single_str)]['Summary'].str[6:10]\n",
    "summary['Keyword'] = summary['Summary'].str.extract(single_str, expand=False)\n",
    "\n",
    "summary[['On_reuse', 'Keyword']].dropna().reset_index(drop=True)"
   ]
  },
  {
   "cell_type": "code",
   "execution_count": null,
   "id": "d722a734",
   "metadata": {},
   "outputs": [],
   "source": []
  }
 ],
 "metadata": {
  "kernelspec": {
   "display_name": "Python 3 (ipykernel)",
   "language": "python",
   "name": "python3"
  },
  "language_info": {
   "codemirror_mode": {
    "name": "ipython",
    "version": 3
   },
   "file_extension": ".py",
   "mimetype": "text/x-python",
   "name": "python",
   "nbconvert_exporter": "python",
   "pygments_lexer": "ipython3",
   "version": "3.9.7"
  }
 },
 "nbformat": 4,
 "nbformat_minor": 5
}
