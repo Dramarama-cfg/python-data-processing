{
 "cells": [
  {
   "cell_type": "markdown",
   "id": "0cab31e7",
   "metadata": {},
   "source": [
    "### This script reads a list of .xls files from two directories, manipulates and compares data from each pair of files, and then writes the data to a new .xls file. The goal is to compare and contrast 'client files' and 'linguistic files', related to a form of language analysis.\n",
    "\n",
    "#### Here's a detailed breakdown of what it does:"
   ]
  },
  {
   "cell_type": "markdown",
   "id": "63ef0c9a",
   "metadata": {},
   "source": [
    "- Import required libraries and suppress warnings to keep output clean:"
   ]
  },
  {
   "cell_type": "code",
   "execution_count": null,
   "id": "857c1f27",
   "metadata": {},
   "outputs": [],
   "source": [
    "import pandas as pd\n",
    "import xlsxwriter\n",
    "import numpy as np\n",
    "import os\n",
    "import time\n",
    "import glob\n",
    "\n",
    "startTime = time.time()\n",
    "pd.set_option('display.float_format', '{:.0f}'.format)\n",
    "pd.set_option(\"display.max_columns\", 100)"
   ]
  },
  {
   "cell_type": "markdown",
   "id": "258a7c76",
   "metadata": {},
   "source": [
    "- Reads 'supp_codes.xlsx' file into a pandas dataframe and convert it into a dictionary, 'internal_dict'. This dictionary is used later to map language names to their respective codes:"
   ]
  },
  {
   "cell_type": "code",
   "execution_count": null,
   "id": "c49933be",
   "metadata": {},
   "outputs": [],
   "source": [
    "internal_dict = pd.read_excel('supp_codes.xlsx')\n",
    "try:\n",
    "    internal_dict = dict(zip(internal_dict['Target_Language'], internal_dict['Support_Code']))\n",
    "except KeyError as e:\n",
    "    print(f\"Error: Key {str(e)} not found in the supp_codes.xlsx file. Please check the file's column names.\")\n",
    "    raise"
   ]
  },
  {
   "cell_type": "markdown",
   "id": "0fcde8d8",
   "metadata": {},
   "source": [
    "**Set the directories for files:**\n",
    "   - Create a list of all .xls files in each directory using glob().\n",
    "   - Check if the number of files in each directory is the same. If not, an error message is displayed."
   ]
  },
  {
   "cell_type": "code",
   "execution_count": null,
   "id": "3488d35c",
   "metadata": {},
   "outputs": [],
   "source": [
    "path_client = 'folder_client'\n",
    "path_ling = 'folder_ling'\n",
    "\n",
    "if not os.path.isdir(path_client) or not os.path.isdir(path_ling):\n",
    "    print(f\"Error: The directories {path_client} or {path_ling} do not exist.\")\n",
    "    raise FileNotFoundError(f\"The directories {path_client} or {path_ling} do not exist.\")\n",
    "    \n",
    "client_analyses = glob.glob(os.path.join(path_client, \"*.xls\"))\n",
    "ling_analyses = glob.glob(os.path.join(path_ling, \"*.xls\"))\n",
    "\n",
    "client_files_count = len(client_analyses)\n",
    "ling_files_count = len(ling_analyses)\n",
    "\n",
    "if client_files_count != ling_files_count:\n",
    "    print(f\"Error: The quantity of client analyses and linguistic analyses differs. \\nClient analyses: x{client_files_count}, Ling analyses: x{ling_files_count}\")\n",
    "else:\n",
    "    print(f\"No discrepancies found. \\nClient analyses: x{client_files_count}, Linguistic analyses: x{ling_files_count}\")"
   ]
  },
  {
   "cell_type": "markdown",
   "id": "58ec9ff8",
   "metadata": {},
   "source": [
    "Extract unique IDs from each pair of files in the folders. The unique IDs are the last element of the filename when split by \"_\". These IDs are used to match files between the two directories:"
   ]
  },
  {
   "cell_type": "code",
   "execution_count": null,
   "id": "a9dccdf6",
   "metadata": {},
   "outputs": [],
   "source": [
    "unique_ids = set()\n",
    "\n",
    "for file_c, file_l in zip(client_analyses, ling_analyses):\n",
    "    unique_id_c = os.path.basename(file_c).split(\"_\")[-1].split(\".\")[0]\n",
    "    unique_id_l = os.path.basename(file_l).split(\"_\")[-1].split(\".\")[0]\n",
    "    unique_ids.add(unique_id_c)\n",
    "    unique_ids.add(unique_id_l)"
   ]
  },
  {
   "cell_type": "markdown",
   "id": "548acd46",
   "metadata": {},
   "source": [
    "**For each unique ID, it tries to find a match in each directory. If it doesn't find a match, it notifies user and skips to the next ID**.\n",
    "   - If it does find a matching pair, it reads each file into a dataframe, sets the column names using the first row  of data, and then removes the first and last rows.\n",
    "   - Then it creates a pivot table for each dataframe, indexing by 'Language' and calculating the sum for certain columns."
   ]
  },
  {
   "cell_type": "code",
   "execution_count": null,
   "id": "03d3cf45",
   "metadata": {},
   "outputs": [],
   "source": [
    "for unique_id in unique_ids:\n",
    "    file_c = next((file for file in client_analyses if unique_id in file), None)\n",
    "    file_l = next((file for file in ling_analyses if unique_id in file), None)\n",
    "\n",
    "    if file_c is None:\n",
    "        print(f\"\\n'{unique_id}' not found in the 'folderclient' folder. Please add it and run the code again.\")\n",
    "        continue\n",
    "\n",
    "    if file_l is None:\n",
    "        print(f\"\\n'{unique_id}' not found in the 'folderling' folder. Please add it and run the code again.\")\n",
    "        continue\n",
    "\n",
    "\n",
    "    df = pd.read_excel(file_c)\n",
    "    df.columns = df.iloc[0]\n",
    "    df = df[1:]\n",
    "    df = df[:-1]\n",
    "    df.reset_index(drop=True, inplace=True) \n",
    "\n",
    "    df_l = pd.read_excel(file_l)\n",
    "    df_l.columns = df_l.iloc[0]\n",
    "    df_l = df_l[1:]\n",
    "    df_l = df_l[:-1]\n",
    "    df_l.reset_index(drop=True, inplace=True) \n",
    "    \n",
    "    #pivots\n",
    "    client_pivot = pd.pivot_table(df, index=['Language'],  \n",
    "                            values=('Segments', 'Context', '100% Match', '75% - 99%', 'No Match', 'Repetitions'), \n",
    "                            aggfunc='sum')\n",
    "    ling_pivot = pd.pivot_table(df_l, index=['Language'], \n",
    "                            values=('Segments', 'Context', '100% Match', '75% - 99%', 'Repetitions75% - 99%', 'No Match', 'Repetitions'), \n",
    "                            aggfunc='sum')"
   ]
  },
  {
   "cell_type": "markdown",
   "id": "0eafb93c",
   "metadata": {},
   "source": [
    "**It rearranges columns, renames some columns, and does further data manipulations:**\n",
    "   - Creates a 'group' column that is a copy of the index, and maps 'group' column to 'supp_codes' using the internal_dict.\n",
    "   - Saves the result and prints out execution time in seconds."
   ]
  },
  {
   "cell_type": "code",
   "execution_count": 1,
   "id": "36d34427",
   "metadata": {},
   "outputs": [
    {
     "name": "stdout",
     "output_type": "stream",
     "text": [
      "Error: The quantity of client analyses and linguistic analyses differs. \n",
      "Client analyses: x10, Ling analyses: x11\n",
      "\n",
      "'test-project' not found in the 'ab_client' folder. Please add it and run the code again.\n",
      "\n",
      "Execution time in seconds: 0.5 sec.\n"
     ]
    }
   ],
   "source": [
    "    #changes the position of columns\n",
    "    client_pivot = client_pivot[['Context', '100% Match', '75% - 99%', 'No Match', 'Repetitions']]\n",
    "    ling_pivot = ling_pivot[['Context', '100% Match', '75% - 99%', 'Repetitions75% - 99%', 'No Match', 'Repetitions']]\n",
    "\n",
    "\n",
    "    #empty cols to keep the structure\n",
    "    client_pivot['99-95% Matches'] = 0\n",
    "    client_pivot['94-85% Matches'] = 0\n",
    "\n",
    "    ling_pivot['99-95% Matches'] = 0\n",
    "    ling_pivot['94-85% Matches'] = 0\n",
    "\n",
    "    # changes the position of columns and selects specific columns\n",
    "    client_file = client_pivot[['Context', '100% Match', '99-95% Matches', '94-85% Matches', '75% - 99%', 'No Match', 'Repetitions']]\n",
    "\n",
    "    # renames the '75% - 99%' column to '75%-99%'\n",
    "    client_file = client_file.rename(columns={'75% - 99%': '75%-99%'})\n",
    "\n",
    "    # selects specific columns\n",
    "    ling_file = ling_pivot[['Context', '100% Match', '99-95% Matches', '94-85% Matches', '75% - 99%', 'Repetitions75% - 99%', 'No Match', 'Repetitions']]\n",
    "\n",
    "    # combines '75% - 99%' and 'Repetitions75% - 99%' columns into '75%-99%' column + drops them\n",
    "    ling_file['75%-99%'] = ling_file.pop('75% - 99%') + ling_file.pop('Repetitions75% - 99%')\n",
    "\n",
    "    # calculates the 'Total' column by summing the values of each row in both dataframes\n",
    "    client_file['Total'] = client_file.sum(axis=1)\n",
    "    ling_file['Total'] = ling_file.sum(axis=1)\n",
    "\n",
    "    # calculates the 'Adjusted_Volume' column\n",
    "    ling_file['Adjusted_Volume'] = round(ling_file['100% Match'] * 0.2 + ling_file['75%-99%'] * 0.3 + ling_file['No Match'])\n",
    "\n",
    "    # replaces spaces with underscores in column names and renames columns in both dataframes\n",
    "    client_file.columns = client_file.columns.str.replace(' ', '_')\n",
    "    ling_file.columns = ling_file.columns.str.replace(' ', '_')\n",
    "\n",
    "    # creates 'group' column in both DataFrames based on the index values\n",
    "    client_file['group'] = client_file.index\n",
    "    ling_file['group'] = ling_file.index\n",
    "\n",
    "    # maps values from 'internal_dict' to 'Support_Code' column based on the 'group' column in both DFs\n",
    "    client_file['Support_Code'] = client_file['group'].map(internal_dict)\n",
    "    ling_file['Support_Code'] = ling_file['group'].map(internal_dict)\n",
    "\n",
    "    # drops 'group' column from both DFs\n",
    "    client_file = client_file.drop('group', axis=1)\n",
    "    ling_file = ling_file.drop('group', axis=1)\n",
    "\n",
    "    # renames columns and adjusts the final column positions\n",
    "    ling_file = ling_file.rename(columns={'Content': 'Context'})[['Support_Code', 'Context', '100%', '99-95%', '94-85%', '75%-99%', 'No_Match', 'Repetitions', 'Total', 'Adjusted_Volume']]\n",
    "\n",
    "    # adjusts the final column positions in final client DF\n",
    "    client_file = client_file[['Support_Code', 'Content', '100%', '99-95%', '94-85%', '75%-99%', 'No_Match', 'Re\n",
    "\n",
    "    # save + time\n",
    "    with pd.ExcelWriter('Consolidated_' + str(unique_id) + '.xlsx') as writer:\n",
    "        client_file.to_excel(writer, sheet_name='Client')\n",
    "        ling_file.to_excel(writer, sheet_name='Linguist')\n",
    "\n",
    "executionTime = round((time.time() - startTime), 1)\n",
    "print('\\nExecution time in seconds: ' + str(executionTime) + \" sec.\")"
   ]
  },
  {
   "cell_type": "code",
   "execution_count": null,
   "id": "d5cd9759",
   "metadata": {},
   "outputs": [],
   "source": []
  }
 ],
 "metadata": {
  "kernelspec": {
   "display_name": "Python 3 (ipykernel)",
   "language": "python",
   "name": "python3"
  },
  "language_info": {
   "codemirror_mode": {
    "name": "ipython",
    "version": 3
   },
   "file_extension": ".py",
   "mimetype": "text/x-python",
   "name": "python",
   "nbconvert_exporter": "python",
   "pygments_lexer": "ipython3",
   "version": "3.11.2"
  }
 },
 "nbformat": 4,
 "nbformat_minor": 5
}
