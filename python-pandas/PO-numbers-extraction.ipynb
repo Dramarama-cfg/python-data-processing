{
 "cells": [
  {
   "cell_type": "markdown",
   "id": "983bf41e",
   "metadata": {},
   "source": [
    "#### The purpose of this code is to automate the process of reading data from multiple spreadsheets (each representing a specific division), cleaning, and aggregating of project content category data and purchase order (PO) data on a divisional basis. This helps in maintaining an organized record and simplify further Purchase order creation process."
   ]
  },
  {
   "cell_type": "code",
   "execution_count": 3,
   "id": "36989aed",
   "metadata": {},
   "outputs": [
    {
     "name": "stdout",
     "output_type": "stream",
     "text": [
      "\n",
      "Execution time in seconds: 30.83 seconds\n"
     ]
    }
   ],
   "source": [
    "import pandas as pd\n",
    "import numpy as np\n",
    "import time\n",
    "import warnings\n",
    "import datetime\n",
    "\n",
    "warnings.filterwarnings('ignore')\n",
    "startTime = time.time()\n",
    "\n",
    "pd.set_option('display.float_format', '{:.0f}'.format)\n",
    "pd.set_option(\"display.max_columns\", 100) #local settings \n",
    "\n",
    "current_date = datetime.datetime.now()\n",
    "date = current_date.strftime(\"%Y_%m\")\n",
    "\n",
    "# Define a function for the common operations\n",
    "def process_division(filename, division_name):\n",
    "    df = pd.read_excel(f'..\\\\dbs\\\\{filename}', sheet_name='Summary')\n",
    "    df.iloc[1, 10] = \"Purchase_Month\"\n",
    "    df.columns = df.iloc[1]\n",
    "    df = df[2:]\n",
    "    df['Division'] = division_name\n",
    "    df = df[df['Purchase_Month'] == date]\n",
    "    df = df[['Project Number', 'Content Category', 'Division']]\n",
    "    df = df.drop_duplicates(subset=['Project Number', 'Content Category'])\n",
    "    return df\n",
    "\n",
    "# use a loop to process all divisions\n",
    "divisions = {\n",
    "    \"1_file.xlsx\": \"1db\",\n",
    "    \"2_file.xlsx\": \"2db\",\n",
    "    \"3_file\": \"3db\",\n",
    "    \"4_file\": \"4db\",\n",
    "    \"5_file.xlsx\": \"5db\",\n",
    "    \"6_file.xlsx\": \"6db\",\n",
    "    \"7_file.xlsx\": \"7db\",\n",
    "    \"8_file.xlsx\": \"8db\",\n",
    "    \"9_file.xlsx\": \"9db\",\n",
    "    \"10_file.xlsx\": \"10db\",\n",
    "    \"11_file.xlsx\": \"11db\"\n",
    "}\n",
    "\n",
    "data_frames = []\n",
    "for filename, division_name in divisions.items():\n",
    "    data_frames.append(process_division(filename, division_name))\n",
    "\n",
    "total = pd.concat(data_frames, axis=0)\n",
    "total_x = pd.pivot_table(total, index=['Division', 'Project Number'], values='Content Category', aggfunc=lambda x: ', '.join(x))\n",
    "\n",
    "total_x = total_x.reset_index()\n",
    "total_x.columns = ['Division_name', 'Project_number', 'Category_to_select']\n",
    "total_x = total_x.sort_values('Division_name', ascending=True)\n",
    "\n",
    "executionTime = round((time.time() - startTime),2)\n",
    "print('\\nExecution time in seconds: ' + str(executionTime) + ' seconds')\n",
    "\n",
    "total_x.to_excel(f'Proj_numbers({date}).xlsx', index=False)\n"
   ]
  },
  {
   "cell_type": "code",
   "execution_count": null,
   "id": "440e49a3",
   "metadata": {},
   "outputs": [],
   "source": []
  }
 ],
 "metadata": {
  "kernelspec": {
   "display_name": "Python 3 (ipykernel)",
   "language": "python",
   "name": "python3"
  },
  "language_info": {
   "codemirror_mode": {
    "name": "ipython",
    "version": 3
   },
   "file_extension": ".py",
   "mimetype": "text/x-python",
   "name": "python",
   "nbconvert_exporter": "python",
   "pygments_lexer": "ipython3",
   "version": "3.9.7"
  }
 },
 "nbformat": 4,
 "nbformat_minor": 5
}
