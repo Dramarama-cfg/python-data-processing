{
 "cells": [
  {
   "cell_type": "markdown",
   "id": "30090a30",
   "metadata": {},
   "source": [
    "###  Script aims to cross-reference an excel file (containing a dictionary) with a word document by searching for dictionary entries within the text of the document."
   ]
  },
  {
   "cell_type": "markdown",
   "id": "1fdff422",
   "metadata": {},
   "source": [
    "### EN text:"
   ]
  },
  {
   "cell_type": "code",
   "execution_count": 8,
   "id": "666779e8",
   "metadata": {},
   "outputs": [
    {
     "name": "stdout",
     "output_type": "stream",
     "text": [
      "Found values (without duplicates): metric, Delivery, scorecards, Account Manager, Business Coach, Scorecard, scorecard, compliance, Compliance\n",
      "Number of words:  9\n"
     ]
    }
   ],
   "source": [
    "import pandas as pd\n",
    "import re\n",
    "from docx import Document\n",
    "import warnings\n",
    "\n",
    "warnings.filterwarnings('ignore')\n",
    "\n",
    "def extract_text_runs(paragraph):\n",
    "    return ''.join([run.text for run in paragraph.runs])\n",
    "\n",
    "# Read xlsx file\n",
    "excel_file = 'dictionary.xlsx'\n",
    "df = pd.read_excel(excel_file, engine='openpyxl')\n",
    "df = df.applymap(lambda x: x.strip() if isinstance(x, str) else x)\n",
    "\n",
    "# Load Word doc\n",
    "docx_file = 'en.docx'\n",
    "document = Document(docx_file)\n",
    "\n",
    "# Extract all text from the Word document, including runs\n",
    "docx_text = ' '.join([extract_text_runs(paragraph) for paragraph in document.paragraphs])\n",
    "\n",
    "# Find values in the Word document\n",
    "found_values_en = []\n",
    "for value in df.iloc[:, 0]:  # Reads 1 col\n",
    "    if isinstance(value, str):\n",
    "        search_pattern = re.compile(r'\\b' + re.escape(value) + r'\\w*', re.IGNORECASE)  # Updated pattern to match strings that start with the given value\n",
    "        matches = search_pattern.finditer(docx_text)\n",
    "        if matches:\n",
    "            found_values_en.extend(match.group() for match in matches)\n",
    "\n",
    "\n",
    "print(\"Found values (without duplicates):\", ', '.join(set(map(str, found_values_en))))\n",
    "print(\"Number of words: \", len(set(found_values_en)))"
   ]
  },
  {
   "cell_type": "code",
   "execution_count": 9,
   "id": "ceb0129e",
   "metadata": {},
   "outputs": [
    {
     "name": "stdout",
     "output_type": "stream",
     "text": [
      "Found values (with duplicates): metric, Delivery, scorecards, Account Manager, Business Coach, Scorecard, scorecard, compliance, Compliance\n",
      "Number of words:  38\n"
     ]
    }
   ],
   "source": [
    "# run in order to see original amount of matches\n",
    "print(\"Found values (with duplicates):\", ', '.join(set(map(str, found_values_en))))\n",
    "print(\"Number of words: \", len(found_values_en))"
   ]
  },
  {
   "cell_type": "markdown",
   "id": "40a56d2b",
   "metadata": {},
   "source": [
    "### DE text:"
   ]
  },
  {
   "cell_type": "code",
   "execution_count": 10,
   "id": "9934d433",
   "metadata": {},
   "outputs": [
    {
     "name": "stdout",
     "output_type": "stream",
     "text": [
      "Found values (excluding duplicates): Fahrzeuginspektion, Sicherheit, Metrikziele, Account Manager, Scorecards, Delivery Vehicle Inspection Checklist (DVIC), Business Coach, Metrik, Einhaltungsmetrik, Metrikdefinition, Scorecard, Kundenfeedback, Einhaltung, Metrikbeiträge, Metriken, Fahrer, Metrikgewichtungen\n",
      "Number of words:  17\n"
     ]
    }
   ],
   "source": [
    "# import pandas as pd\n",
    "# import re\n",
    "# from docx import Document\n",
    "\n",
    "def extract_text_runs(paragraph):\n",
    "    return ''.join([run.text for run in paragraph.runs])\n",
    "\n",
    "# Read xlsx file\n",
    "excel_file = 'dictionary.xlsx'\n",
    "df = pd.read_excel(excel_file, engine='openpyxl')\n",
    "df = df.applymap(lambda x: x.strip() if isinstance(x, str) else x)\n",
    "\n",
    "# Load Word doc\n",
    "docx_file = 'de.docx'\n",
    "document = Document(docx_file)\n",
    "\n",
    "# Extract all text from the Word document, including runs\n",
    "docx_text = ' '.join([extract_text_runs(paragraph) for paragraph in document.paragraphs])\n",
    "\n",
    "# Find values in the Word document\n",
    "found_values_de = []\n",
    "for value in df.iloc[:, 2]:  # Reads 1 col\n",
    "    if isinstance(value, str):\n",
    "        search_pattern = re.compile(r'\\b' + re.escape(value) + r'\\w*', re.IGNORECASE)  # Updated pattern to match strings that start with the given value\n",
    "        matches = search_pattern.finditer(docx_text)\n",
    "        if matches:\n",
    "            found_values_de.extend(match.group() for match in matches)\n",
    "\n",
    "\n",
    "\n",
    "print(\"Found values (excluding duplicates):\", ', '.join(set(map(str, found_values_de))))\n",
    "print(\"Number of words: \", len(set(found_values_de)))"
   ]
  },
  {
   "cell_type": "code",
   "execution_count": 11,
   "id": "0cecb1ad",
   "metadata": {},
   "outputs": [
    {
     "name": "stdout",
     "output_type": "stream",
     "text": [
      "Found values (including duplicates): Account Manager, Account Manager, Account Manager, Business Coach, Einhaltungsmetrik, Einhaltung, Einhaltung, Einhaltungsmetrik, Einhaltungsmetrik, Einhaltung, Einhaltung, Einhaltung, Einhaltung, Einhaltung, Einhaltung, Fahrer, Sicherheit, Sicherheit, Scorecard, Scorecard, Scorecards, Scorecards, Scorecards, Scorecards, Scorecards, Scorecards, Scorecards, Scorecards, Scorecards, Scorecards, Scorecard, Scorecard, Scorecard, Scorecard, Fahrzeuginspektion, Account Manager, Account Manager, Account Manager, Kundenfeedback, Delivery Vehicle Inspection Checklist (DVIC), Metrikziele, Metrik, Metrikziele, Metrikdefinition, Metrikdefinition, Metrikziele, Metrikdefinition, Metrik, Metrik, Metrikgewichtungen, Metrikgewichtungen, Metrikgewichtungen, Metrikbeiträge, Metriken, Metrik\n",
      "Number of words:  55\n"
     ]
    }
   ],
   "source": [
    "print(\"Found values (including duplicates):\", ', '.join(map(str, found_values_de)))\n",
    "print(\"Number of words: \", len(found_values_de))"
   ]
  },
  {
   "cell_type": "code",
   "execution_count": null,
   "id": "2a3b20fc",
   "metadata": {},
   "outputs": [],
   "source": []
  }
 ],
 "metadata": {
  "kernelspec": {
   "display_name": "Python 3 (ipykernel)",
   "language": "python",
   "name": "python3"
  },
  "language_info": {
   "codemirror_mode": {
    "name": "ipython",
    "version": 3
   },
   "file_extension": ".py",
   "mimetype": "text/x-python",
   "name": "python",
   "nbconvert_exporter": "python",
   "pygments_lexer": "ipython3",
   "version": "3.9.7"
  }
 },
 "nbformat": 4,
 "nbformat_minor": 5
}
