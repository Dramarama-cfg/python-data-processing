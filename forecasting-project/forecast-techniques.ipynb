{
 "cells": [
  {
   "cell_type": "markdown",
   "id": "c3e3ff55",
   "metadata": {},
   "source": [
    "### Test dataset using: \n",
    "- LSTM\n",
    "- ARIMA\n",
    "- Exponential Smoothing (ETS): / LPPL (more financial related)\n",
    "- NGRAM"
   ]
  },
  {
   "cell_type": "markdown",
   "id": "a339a66d",
   "metadata": {},
   "source": [
    "- Mean Absolute Percentage Error (MAPE)\n",
    "- Symmetric Mean Absolute Percentage Error (SMAPE)\n",
    "- Mean Directional Accuracy (MDA)"
   ]
  },
  {
   "cell_type": "markdown",
   "id": "21453687",
   "metadata": {},
   "source": [
    "## LSTM (Long Short Term Memory):"
   ]
  },
  {
   "cell_type": "code",
   "execution_count": null,
   "id": "47d9e886",
   "metadata": {},
   "outputs": [],
   "source": [
    "from keras.models import Sequential\n",
    "from keras.layers import LSTM\n",
    "from keras.layers import Dense\n",
    "\n",
    "# reshape your data according to the LSTM's need\n",
    "# X should be your input data, y should be your output data\n",
    "\n",
    "X = X.reshape((X.shape[0], X.shape[1], 1)) \n",
    "\n",
    "# define the LSTM model\n",
    "model = Sequential()\n",
    "model.add(LSTM(50, activation='relu', input_shape=(X.shape[1], 1)))\n",
    "model.add(Dense(1))\n",
    "model.compile(optimizer='adam', loss='mse')\n",
    "\n",
    "# fit the model\n",
    "model.fit(X, y, epochs=200, verbose=0)\n",
    "\n",
    "# make predictions\n",
    "x_input = array([70, 80, 90]) # replace it with your input for which you want to make predictions\n",
    "x_input = x_input.reshape((1, n_steps, n_features))\n",
    "yhat = model.predict(x_input, verbose=0)"
   ]
  },
  {
   "cell_type": "markdown",
   "id": "6cb5efb1",
   "metadata": {},
   "source": [
    "## ARIMA (AutoRegressive Integrated Moving Average):"
   ]
  },
  {
   "cell_type": "code",
   "execution_count": null,
   "id": "cff0f04a",
   "metadata": {},
   "outputs": [],
   "source": [
    "from statsmodels.tsa.arima_model import ARIMA\n",
    "\n",
    "# your data should be a list or a pandas dataframe/series of your time-series data\n",
    "model = ARIMA(data, order=(5,1,0)) \n",
    "model_fit = model.fit(disp=0)\n",
    "predictions = model_fit.predict(start=len(data), end=len(data)+10) # predict next 10 data points"
   ]
  },
  {
   "cell_type": "code",
   "execution_count": null,
   "id": "361c0441",
   "metadata": {},
   "outputs": [],
   "source": []
  },
  {
   "cell_type": "code",
   "execution_count": null,
   "id": "16ef3674",
   "metadata": {},
   "outputs": [],
   "source": []
  },
  {
   "cell_type": "code",
   "execution_count": null,
   "id": "fb0e1b98",
   "metadata": {},
   "outputs": [],
   "source": []
  },
  {
   "cell_type": "code",
   "execution_count": null,
   "id": "dd936f11",
   "metadata": {},
   "outputs": [],
   "source": []
  },
  {
   "cell_type": "code",
   "execution_count": 1,
   "id": "a200b49a",
   "metadata": {},
   "outputs": [
    {
     "name": "stderr",
     "output_type": "stream",
     "text": [
      "usage: jt [-h] [-l] [-t THEME] [-f MONOFONT] [-fs MONOSIZE] [-nf NBFONT]\n",
      "          [-nfs NBFONTSIZE] [-tf TCFONT] [-tfs TCFONTSIZE] [-dfs DFFONTSIZE]\n",
      "          [-ofs OUTFONTSIZE] [-mathfs MATHFONTSIZE] [-m MARGINS]\n",
      "          [-cursw CURSORWIDTH] [-cursc CURSORCOLOR] [-cellw CELLWIDTH]\n",
      "          [-lineh LINEHEIGHT] [-altp] [-altmd] [-altout] [-P] [-T] [-N] [-kl]\n",
      "          [-vim] [-r] [-dfonts]\n",
      "jt: error: argument -t/--theme: expected one argument\n"
     ]
    }
   ],
   "source": [
    "!jt -t"
   ]
  },
  {
   "cell_type": "code",
   "execution_count": null,
   "id": "3c92dcd5",
   "metadata": {},
   "outputs": [],
   "source": []
  }
 ],
 "metadata": {
  "kernelspec": {
   "display_name": "Python 3 (ipykernel)",
   "language": "python",
   "name": "python3"
  },
  "language_info": {
   "codemirror_mode": {
    "name": "ipython",
    "version": 3
   },
   "file_extension": ".py",
   "mimetype": "text/x-python",
   "name": "python",
   "nbconvert_exporter": "python",
   "pygments_lexer": "ipython3",
   "version": "3.11.4"
  }
 },
 "nbformat": 4,
 "nbformat_minor": 5
}
